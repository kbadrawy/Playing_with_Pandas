{
  "nbformat": 4,
  "nbformat_minor": 0,
  "metadata": {
    "colab": {
      "name": "Untitled1.ipynb",
      "provenance": [],
      "collapsed_sections": [],
      "toc_visible": true,
      "authorship_tag": "ABX9TyPvF/bRF2wHIeq/87NoVogH",
      "include_colab_link": true
    },
    "kernelspec": {
      "name": "python3",
      "display_name": "Python 3"
    },
    "language_info": {
      "name": "python"
    }
  },
  "cells": [
    {
      "cell_type": "markdown",
      "metadata": {
        "id": "view-in-github",
        "colab_type": "text"
      },
      "source": [
        "<a href=\"https://colab.research.google.com/github/kbadrawy/Playing_with_Pandas/blob/main/yu-gi-oh_meets_pandas.ipynb\" target=\"_parent\"><img src=\"https://colab.research.google.com/assets/colab-badge.svg\" alt=\"Open In Colab\"/></a>"
      ]
    },
    {
      "cell_type": "code",
      "metadata": {
        "colab": {
          "base_uri": "https://localhost:8080/"
        },
        "id": "42OlCpeH1EOE",
        "outputId": "88fa935e-9ce0-41f6-fc78-7a854c4278a5"
      },
      "source": [
        "\n",
        "from google.colab import drive\n",
        "\n",
        "drive.mount('/content/drive')"
      ],
      "execution_count": 5,
      "outputs": [
        {
          "output_type": "stream",
          "text": [
            "Mounted at /content/drive\n"
          ],
          "name": "stdout"
        }
      ]
    },
    {
      "cell_type": "markdown",
      "metadata": {
        "id": "hAixPKPw1W41"
      },
      "source": [
        "**PANDAS**"
      ]
    },
    {
      "cell_type": "markdown",
      "metadata": {
        "id": "ve30KcHlpHce"
      },
      "source": [
        "Loading Data "
      ]
    },
    {
      "cell_type": "code",
      "metadata": {
        "id": "tt-AH2TSn5F5"
      },
      "source": [
        "# importing panda library\n",
        "import pandas as pd\n",
        "\n",
        "# loading a csv file format\n",
        "card = pd.read_csv('/content/drive/MyDrive/Colab Notebooks/card_data.csv') \n",
        "\n",
        "# loading from an excel file format\n",
        "card_xlsx = pd.read_excel('/content/New_Data/card_data.xlsx') #loadinf from an excel file format\n",
        "\n",
        "# printing first 3 rows using .head\n",
        "print(card_xlsx.head(3))\n",
        "\n",
        "# print all rows\n",
        "print(card) \n"
      ],
      "execution_count": 60,
      "outputs": []
    },
    {
      "cell_type": "markdown",
      "metadata": {
        "id": "XT5-8zIPvgd_"
      },
      "source": [
        "Reading data"
      ]
    },
    {
      "cell_type": "code",
      "metadata": {
        "id": "ELnwFAhZwHQl"
      },
      "source": [
        "# Reading all headers\n",
        "print(card.columns)\n",
        "\n",
        "#Reading specific columns\n",
        "print ([card.ATK]) # First way \n",
        "print (card[['Name','Type','ATK']]) # Second way\n",
        "\n",
        "#Reading all rows\n",
        "print(card)\n",
        "\n",
        "#Reading specific row\n",
        "print(card.iloc[1]) # iloc-->integer location \n",
        "print(card.iloc[0:4]) # gets rows from location 1 till location 3 \n",
        "\n",
        "#Reading from a specific location \n",
        "print(card.iloc[2,1])\n",
        "\n",
        "#Iteration over all rows in data set\n",
        "for index , row in card.iterrows():\n",
        " print(index,row['ATK'])\n",
        "\n",
        "#Showing columns with specific atributes\n",
        "card.loc[card['Level']==1]  \n",
        "\n"
      ],
      "execution_count": null,
      "outputs": []
    },
    {
      "cell_type": "markdown",
      "metadata": {
        "id": "lvgnjnGbnK-H"
      },
      "source": [
        "Describing Data\n",
        "\n"
      ]
    },
    {
      "cell_type": "code",
      "metadata": {
        "id": "p5UrHA0XnNoY"
      },
      "source": [
        "card.describe()\n",
        "\n",
        "#sorting the data according to column name descendingly\n",
        "card.sort_values('Name',ascending=False) \n",
        "card.sort_values(['Type','Level'],ascending=[1,0])"
      ],
      "execution_count": null,
      "outputs": []
    },
    {
      "cell_type": "markdown",
      "metadata": {
        "id": "ODP1R2LUnyHe"
      },
      "source": [
        "Manipluating Data\n"
      ]
    },
    {
      "cell_type": "code",
      "metadata": {
        "id": "_kwM9qdYyc3t",
        "colab": {
          "base_uri": "https://localhost:8080/"
        },
        "outputId": "f00ead24-ae68-47f2-d76d-52a1b1b5dbc5"
      },
      "source": [
        "# adding a new column\n",
        "card['Sum']=card['ATK']+card['DEF'] #1st way\n",
        "card['Sum']=card.iloc[:,5:7].sum(axis=1) #2nd way ; adding the columns vertically (axis=1)\n",
        "\n",
        "\n",
        "# deleting certain column\n",
        "card=card.drop(columns=['Sum'])\n",
        "\n",
        "cols = list(card.columns.values)\n",
        "print(cols)\n",
        "\n",
        "# rearranging the order of columns\n",
        "card=card[[cols[0]]+cols[5:7]+[cols[7]]+cols[1:5]]\n",
        "print(card)"
      ],
      "execution_count": 61,
      "outputs": [
        {
          "output_type": "stream",
          "text": [
            "['Name', 'Type', 'Level', 'Race', 'Attribute', 'ATK', 'DEF', 'Sum']\n",
            "                          Name                     Type  ...     DEF     Sum\n",
            "0                Limit Reverse                Trap Card  ...     NaN     NaN\n",
            "1               The 13th Grave           Normal Monster  ...   900.0  2100.0\n",
            "2              Gem-Enhancement                Trap Card  ...     NaN     NaN\n",
            "3            Magician's Circle                Trap Card  ...     NaN     NaN\n",
            "4     Castle of Dark Illusions      Flip Effect Monster  ...  1930.0  2850.0\n",
            "...                        ...                      ...  ...     ...     ...\n",
            "6529                Wattcancel                Trap Card  ...     NaN     NaN\n",
            "6530    Paleozoic Anomalocaris              XYZ Monster  ...     0.0  2400.0\n",
            "6531             Dark Magician           Normal Monster  ...  2100.0  4600.0\n",
            "6532  Odd-Eyes Pendulum Dragon  Pendulum Effect Monster  ...  2000.0  4500.0\n",
            "6533           Stardust Dragon          Synchro Monster  ...  2000.0  4500.0\n",
            "\n",
            "[6534 rows x 8 columns]\n"
          ],
          "name": "stdout"
        }
      ]
    },
    {
      "cell_type": "markdown",
      "metadata": {
        "id": "DDhz6GNg7Z_f"
      },
      "source": [
        "Saving to csv file\n",
        "\n"
      ]
    },
    {
      "cell_type": "code",
      "metadata": {
        "id": "KITXgBqL7rX2",
        "colab": {
          "base_uri": "https://localhost:8080/",
          "height": 419
        },
        "outputId": "85c13b47-908a-4e05-97f9-5cad34e3c14a"
      },
      "source": [
        "# saving to csv file\n",
        "card.to_csv('/content/drive/MyDrive/Colab Notebooks/after_change.csv') # with saving index\n",
        "card.to_csv('/content/drive/MyDrive/Colab Notebooks/after_change.csv',index=False) # without saving index\n",
        "\n",
        "# saving to excel file\n",
        "card.to_excel('/content/drive/MyDrive/Colab Notebooks/after_change.xlsx',index=False)\n",
        "\n",
        "# saving to text file\n",
        "card.to_csv('/content/drive/MyDrive/Colab Notebooks/after_change.txt')\n",
        "\n",
        "# reading text file\n",
        "card_txt=pd.read_csv('/content/drive/MyDrive/Colab Notebooks/after_change.txt')\n",
        "\n",
        "# renaming column\n",
        "card_txt.rename(columns={'Unnamed: 0':'#'}, inplace =False)\n"
      ],
      "execution_count": 62,
      "outputs": [
        {
          "output_type": "execute_result",
          "data": {
            "text/html": [
              "<div>\n",
              "<style scoped>\n",
              "    .dataframe tbody tr th:only-of-type {\n",
              "        vertical-align: middle;\n",
              "    }\n",
              "\n",
              "    .dataframe tbody tr th {\n",
              "        vertical-align: top;\n",
              "    }\n",
              "\n",
              "    .dataframe thead th {\n",
              "        text-align: right;\n",
              "    }\n",
              "</style>\n",
              "<table border=\"1\" class=\"dataframe\">\n",
              "  <thead>\n",
              "    <tr style=\"text-align: right;\">\n",
              "      <th></th>\n",
              "      <th>#</th>\n",
              "      <th>Name</th>\n",
              "      <th>Type</th>\n",
              "      <th>Level</th>\n",
              "      <th>Race</th>\n",
              "      <th>Attribute</th>\n",
              "      <th>ATK</th>\n",
              "      <th>DEF</th>\n",
              "      <th>Sum</th>\n",
              "    </tr>\n",
              "  </thead>\n",
              "  <tbody>\n",
              "    <tr>\n",
              "      <th>0</th>\n",
              "      <td>0</td>\n",
              "      <td>Limit Reverse</td>\n",
              "      <td>Trap Card</td>\n",
              "      <td>NaN</td>\n",
              "      <td>Continuous</td>\n",
              "      <td>NaN</td>\n",
              "      <td>NaN</td>\n",
              "      <td>NaN</td>\n",
              "      <td>NaN</td>\n",
              "    </tr>\n",
              "    <tr>\n",
              "      <th>1</th>\n",
              "      <td>1</td>\n",
              "      <td>The 13th Grave</td>\n",
              "      <td>Normal Monster</td>\n",
              "      <td>3.0</td>\n",
              "      <td>Zombie</td>\n",
              "      <td>DARK</td>\n",
              "      <td>1200.0</td>\n",
              "      <td>900.0</td>\n",
              "      <td>2100.0</td>\n",
              "    </tr>\n",
              "    <tr>\n",
              "      <th>2</th>\n",
              "      <td>2</td>\n",
              "      <td>Gem-Enhancement</td>\n",
              "      <td>Trap Card</td>\n",
              "      <td>NaN</td>\n",
              "      <td>Normal</td>\n",
              "      <td>NaN</td>\n",
              "      <td>NaN</td>\n",
              "      <td>NaN</td>\n",
              "      <td>NaN</td>\n",
              "    </tr>\n",
              "    <tr>\n",
              "      <th>3</th>\n",
              "      <td>3</td>\n",
              "      <td>Magician's Circle</td>\n",
              "      <td>Trap Card</td>\n",
              "      <td>NaN</td>\n",
              "      <td>Normal</td>\n",
              "      <td>NaN</td>\n",
              "      <td>NaN</td>\n",
              "      <td>NaN</td>\n",
              "      <td>NaN</td>\n",
              "    </tr>\n",
              "    <tr>\n",
              "      <th>4</th>\n",
              "      <td>4</td>\n",
              "      <td>Castle of Dark Illusions</td>\n",
              "      <td>Flip Effect Monster</td>\n",
              "      <td>4.0</td>\n",
              "      <td>Fiend</td>\n",
              "      <td>DARK</td>\n",
              "      <td>920.0</td>\n",
              "      <td>1930.0</td>\n",
              "      <td>2850.0</td>\n",
              "    </tr>\n",
              "    <tr>\n",
              "      <th>...</th>\n",
              "      <td>...</td>\n",
              "      <td>...</td>\n",
              "      <td>...</td>\n",
              "      <td>...</td>\n",
              "      <td>...</td>\n",
              "      <td>...</td>\n",
              "      <td>...</td>\n",
              "      <td>...</td>\n",
              "      <td>...</td>\n",
              "    </tr>\n",
              "    <tr>\n",
              "      <th>6529</th>\n",
              "      <td>6529</td>\n",
              "      <td>Wattcancel</td>\n",
              "      <td>Trap Card</td>\n",
              "      <td>NaN</td>\n",
              "      <td>Counter</td>\n",
              "      <td>NaN</td>\n",
              "      <td>NaN</td>\n",
              "      <td>NaN</td>\n",
              "      <td>NaN</td>\n",
              "    </tr>\n",
              "    <tr>\n",
              "      <th>6530</th>\n",
              "      <td>6530</td>\n",
              "      <td>Paleozoic Anomalocaris</td>\n",
              "      <td>XYZ Monster</td>\n",
              "      <td>2.0</td>\n",
              "      <td>Aqua</td>\n",
              "      <td>WATER</td>\n",
              "      <td>2400.0</td>\n",
              "      <td>0.0</td>\n",
              "      <td>2400.0</td>\n",
              "    </tr>\n",
              "    <tr>\n",
              "      <th>6531</th>\n",
              "      <td>6531</td>\n",
              "      <td>Dark Magician</td>\n",
              "      <td>Normal Monster</td>\n",
              "      <td>7.0</td>\n",
              "      <td>Spellcaster</td>\n",
              "      <td>DARK</td>\n",
              "      <td>2500.0</td>\n",
              "      <td>2100.0</td>\n",
              "      <td>4600.0</td>\n",
              "    </tr>\n",
              "    <tr>\n",
              "      <th>6532</th>\n",
              "      <td>6532</td>\n",
              "      <td>Odd-Eyes Pendulum Dragon</td>\n",
              "      <td>Pendulum Effect Monster</td>\n",
              "      <td>7.0</td>\n",
              "      <td>Dragon</td>\n",
              "      <td>DARK</td>\n",
              "      <td>2500.0</td>\n",
              "      <td>2000.0</td>\n",
              "      <td>4500.0</td>\n",
              "    </tr>\n",
              "    <tr>\n",
              "      <th>6533</th>\n",
              "      <td>6533</td>\n",
              "      <td>Stardust Dragon</td>\n",
              "      <td>Synchro Monster</td>\n",
              "      <td>8.0</td>\n",
              "      <td>Dragon</td>\n",
              "      <td>WIND</td>\n",
              "      <td>2500.0</td>\n",
              "      <td>2000.0</td>\n",
              "      <td>4500.0</td>\n",
              "    </tr>\n",
              "  </tbody>\n",
              "</table>\n",
              "<p>6534 rows × 9 columns</p>\n",
              "</div>"
            ],
            "text/plain": [
              "         #                      Name  ...     DEF     Sum\n",
              "0        0             Limit Reverse  ...     NaN     NaN\n",
              "1        1            The 13th Grave  ...   900.0  2100.0\n",
              "2        2           Gem-Enhancement  ...     NaN     NaN\n",
              "3        3         Magician's Circle  ...     NaN     NaN\n",
              "4        4  Castle of Dark Illusions  ...  1930.0  2850.0\n",
              "...    ...                       ...  ...     ...     ...\n",
              "6529  6529                Wattcancel  ...     NaN     NaN\n",
              "6530  6530    Paleozoic Anomalocaris  ...     0.0  2400.0\n",
              "6531  6531             Dark Magician  ...  2100.0  4600.0\n",
              "6532  6532  Odd-Eyes Pendulum Dragon  ...  2000.0  4500.0\n",
              "6533  6533           Stardust Dragon  ...  2000.0  4500.0\n",
              "\n",
              "[6534 rows x 9 columns]"
            ]
          },
          "metadata": {
            "tags": []
          },
          "execution_count": 62
        }
      ]
    },
    {
      "cell_type": "markdown",
      "metadata": {
        "id": "Rtl3lXw4DdIS"
      },
      "source": [
        "Filtering Data"
      ]
    },
    {
      "cell_type": "code",
      "metadata": {
        "id": "1kC2zaqTDgN7",
        "colab": {
          "base_uri": "https://localhost:8080/",
          "height": 419
        },
        "outputId": "ef64f6ad-73cc-4777-b71d-5dda75e0a941"
      },
      "source": [
        "card.loc[(card['Type']=='Effect Monster') & (card['Level']==8)] # gets all the rows that satisfy the conditon\n",
        "card.loc[(card['Type']=='Effect Monster') & (card['Level']==8) & (card['ATK']>1200.0)] # gets all the rows that satisfy the conditon\n",
        "\n",
        "New_card=card.loc[(card['Type']=='Effect Monster') & (card['Level']==8) & (card['ATK']>1200.0)] \n",
        "New_card.to_csv('/content/drive/MyDrive/Colab Notebooks/Filtered.csv',index=False)\n",
        "\n",
        "New_card = New_card.reset_index(drop=True,inplace=True) #reset index and getting rid of the old ones\n",
        "\n",
        "New_card.loc[New_card['Name'].str.contains('Dragon')] # gets all dragon cards\n",
        "New_card.loc[~New_card['Name'].str.contains('Dragon')] # get all cards that are not dragons\n",
        "\n",
        "# importing regular expressions\n",
        "import re\n",
        "\n",
        "card.loc[card['Type'].str.contains('penDulum | effect',flags= re.I ,regex=True)]\n",
        "card.loc[card['Name'].str.contains('^a[a:z]*',flags= re.I ,regex=True)] #notes: 1) ^ indicates that it must start with letter a . 2) [a:z]* indicates that the rest of the name could be nothing or any of the alphabet letters\n"
      ],
      "execution_count": 63,
      "outputs": [
        {
          "output_type": "execute_result",
          "data": {
            "text/html": [
              "<div>\n",
              "<style scoped>\n",
              "    .dataframe tbody tr th:only-of-type {\n",
              "        vertical-align: middle;\n",
              "    }\n",
              "\n",
              "    .dataframe tbody tr th {\n",
              "        vertical-align: top;\n",
              "    }\n",
              "\n",
              "    .dataframe thead th {\n",
              "        text-align: right;\n",
              "    }\n",
              "</style>\n",
              "<table border=\"1\" class=\"dataframe\">\n",
              "  <thead>\n",
              "    <tr style=\"text-align: right;\">\n",
              "      <th></th>\n",
              "      <th>Name</th>\n",
              "      <th>Type</th>\n",
              "      <th>Level</th>\n",
              "      <th>Race</th>\n",
              "      <th>Attribute</th>\n",
              "      <th>ATK</th>\n",
              "      <th>DEF</th>\n",
              "      <th>Sum</th>\n",
              "    </tr>\n",
              "  </thead>\n",
              "  <tbody>\n",
              "    <tr>\n",
              "      <th>28</th>\n",
              "      <td>A Legendary Ocean</td>\n",
              "      <td>Spell Card</td>\n",
              "      <td>NaN</td>\n",
              "      <td>Field</td>\n",
              "      <td>NaN</td>\n",
              "      <td>NaN</td>\n",
              "      <td>NaN</td>\n",
              "      <td>NaN</td>\n",
              "    </tr>\n",
              "    <tr>\n",
              "      <th>30</th>\n",
              "      <td>Amplifier</td>\n",
              "      <td>Spell Card</td>\n",
              "      <td>NaN</td>\n",
              "      <td>Equip</td>\n",
              "      <td>NaN</td>\n",
              "      <td>NaN</td>\n",
              "      <td>NaN</td>\n",
              "      <td>NaN</td>\n",
              "    </tr>\n",
              "    <tr>\n",
              "      <th>58</th>\n",
              "      <td>Alien Ammonite</td>\n",
              "      <td>Tuner Monster</td>\n",
              "      <td>1.0</td>\n",
              "      <td>Reptile</td>\n",
              "      <td>LIGHT</td>\n",
              "      <td>500.0</td>\n",
              "      <td>200.0</td>\n",
              "      <td>700.0</td>\n",
              "    </tr>\n",
              "    <tr>\n",
              "      <th>63</th>\n",
              "      <td>Atlantean Marksman</td>\n",
              "      <td>Effect Monster</td>\n",
              "      <td>3.0</td>\n",
              "      <td>Sea Serpent</td>\n",
              "      <td>WATER</td>\n",
              "      <td>1400.0</td>\n",
              "      <td>0.0</td>\n",
              "      <td>1400.0</td>\n",
              "    </tr>\n",
              "    <tr>\n",
              "      <th>64</th>\n",
              "      <td>Amazoness Village</td>\n",
              "      <td>Spell Card</td>\n",
              "      <td>NaN</td>\n",
              "      <td>Field</td>\n",
              "      <td>NaN</td>\n",
              "      <td>NaN</td>\n",
              "      <td>NaN</td>\n",
              "      <td>NaN</td>\n",
              "    </tr>\n",
              "    <tr>\n",
              "      <th>...</th>\n",
              "      <td>...</td>\n",
              "      <td>...</td>\n",
              "      <td>...</td>\n",
              "      <td>...</td>\n",
              "      <td>...</td>\n",
              "      <td>...</td>\n",
              "      <td>...</td>\n",
              "      <td>...</td>\n",
              "    </tr>\n",
              "    <tr>\n",
              "      <th>6462</th>\n",
              "      <td>Anti-Magic Arrows</td>\n",
              "      <td>Spell Card</td>\n",
              "      <td>NaN</td>\n",
              "      <td>Quick-Play</td>\n",
              "      <td>NaN</td>\n",
              "      <td>NaN</td>\n",
              "      <td>NaN</td>\n",
              "      <td>NaN</td>\n",
              "    </tr>\n",
              "    <tr>\n",
              "      <th>6463</th>\n",
              "      <td>Alien Shocktrooper</td>\n",
              "      <td>Normal Monster</td>\n",
              "      <td>4.0</td>\n",
              "      <td>Reptile</td>\n",
              "      <td>EARTH</td>\n",
              "      <td>1900.0</td>\n",
              "      <td>800.0</td>\n",
              "      <td>2700.0</td>\n",
              "    </tr>\n",
              "    <tr>\n",
              "      <th>6470</th>\n",
              "      <td>Accumulated Fortune</td>\n",
              "      <td>Trap Card</td>\n",
              "      <td>NaN</td>\n",
              "      <td>Normal</td>\n",
              "      <td>NaN</td>\n",
              "      <td>NaN</td>\n",
              "      <td>NaN</td>\n",
              "      <td>NaN</td>\n",
              "    </tr>\n",
              "    <tr>\n",
              "      <th>6504</th>\n",
              "      <td>Amazoness Pet Liger</td>\n",
              "      <td>Fusion Monster</td>\n",
              "      <td>7.0</td>\n",
              "      <td>Beast</td>\n",
              "      <td>EARTH</td>\n",
              "      <td>2500.0</td>\n",
              "      <td>2400.0</td>\n",
              "      <td>4900.0</td>\n",
              "    </tr>\n",
              "    <tr>\n",
              "      <th>6511</th>\n",
              "      <td>Ash Blossom &amp; Joyous Spring</td>\n",
              "      <td>Tuner Monster</td>\n",
              "      <td>3.0</td>\n",
              "      <td>Zombie</td>\n",
              "      <td>FIRE</td>\n",
              "      <td>0.0</td>\n",
              "      <td>1800.0</td>\n",
              "      <td>1800.0</td>\n",
              "    </tr>\n",
              "  </tbody>\n",
              "</table>\n",
              "<p>384 rows × 8 columns</p>\n",
              "</div>"
            ],
            "text/plain": [
              "                             Name            Type  ...     DEF     Sum\n",
              "28              A Legendary Ocean      Spell Card  ...     NaN     NaN\n",
              "30                      Amplifier      Spell Card  ...     NaN     NaN\n",
              "58                 Alien Ammonite   Tuner Monster  ...   200.0   700.0\n",
              "63             Atlantean Marksman  Effect Monster  ...     0.0  1400.0\n",
              "64              Amazoness Village      Spell Card  ...     NaN     NaN\n",
              "...                           ...             ...  ...     ...     ...\n",
              "6462            Anti-Magic Arrows      Spell Card  ...     NaN     NaN\n",
              "6463           Alien Shocktrooper  Normal Monster  ...   800.0  2700.0\n",
              "6470          Accumulated Fortune       Trap Card  ...     NaN     NaN\n",
              "6504          Amazoness Pet Liger  Fusion Monster  ...  2400.0  4900.0\n",
              "6511  Ash Blossom & Joyous Spring   Tuner Monster  ...  1800.0  1800.0\n",
              "\n",
              "[384 rows x 8 columns]"
            ]
          },
          "metadata": {
            "tags": []
          },
          "execution_count": 63
        }
      ]
    },
    {
      "cell_type": "markdown",
      "metadata": {
        "id": "Gp-3VHmKPnZR"
      },
      "source": [
        "Changing on condition "
      ]
    },
    {
      "cell_type": "code",
      "metadata": {
        "id": "y1eJrNObPs1Z",
        "colab": {
          "base_uri": "https://localhost:8080/"
        },
        "outputId": "c620bacc-a44b-4a49-ab40-aa9537ca4d07"
      },
      "source": [
        "# changing 1 column\n",
        "card.loc[card['Type'] =='Trap Card','Type']='Trapper'\n",
        "card.loc[card['Type'] =='Trapper','Type']='Trap Card'\n",
        "card.loc[card['Type'] =='Trap Card','Level']=0.0\n",
        "\n",
        "# # changing multiple columns\n",
        "card.loc[~(card['Sum']>=0),['ATK','DEF','Sum']]=[0.0,0.0,0.0] \n",
        "print(card.shape)\n",
        "card_noNaN=card.dropna()\n",
        "print(card_noNaN.shape)"
      ],
      "execution_count": 64,
      "outputs": [
        {
          "output_type": "stream",
          "text": [
            "(6534, 8)\n",
            "(4275, 8)\n"
          ],
          "name": "stdout"
        }
      ]
    },
    {
      "cell_type": "markdown",
      "metadata": {
        "id": "_0oAxKFaTkSz"
      },
      "source": [
        "Aggregate Functions\n"
      ]
    },
    {
      "cell_type": "code",
      "metadata": {
        "id": "nyBitrT-Ttv4"
      },
      "source": [
        "card.groupby(['Type']).mean().sort_values('ATK',ascending=False)\n",
        "card.groupby(['Type']).sum()\n",
        "card['Count']=1\n",
        "card.groupby(['Type']).count()['Count']\n",
        "card.groupby(['Type','Race']).count()['Count']"
      ],
      "execution_count": null,
      "outputs": []
    },
    {
      "cell_type": "markdown",
      "metadata": {
        "id": "Qy6MQN9gWNA3"
      },
      "source": [
        "Large amount of data"
      ]
    },
    {
      "cell_type": "code",
      "metadata": {
        "id": "mCUERj4CWQsj"
      },
      "source": [
        "# iterating over 5 rows at a time\n",
        "i=0\n",
        "for card in pd.read_csv('/content/drive/MyDrive/Colab Notebooks/after_change.csv',chunksize=5):\n",
        "    i=i+1\n",
        "    print('CHUNK',i)\n",
        "    print(card)\n",
        "\n",
        "\n"
      ],
      "execution_count": null,
      "outputs": []
    },
    {
      "cell_type": "markdown",
      "metadata": {
        "id": "47Pr4owcArpI"
      },
      "source": [
        "Plotting\n"
      ]
    },
    {
      "cell_type": "code",
      "metadata": {
        "id": "q38P5kNlAxmU"
      },
      "source": [
        "import matplotlib.pyplot as plt\n",
        "import numpy as np\n",
        "import pandas as pd\n"
      ],
      "execution_count": 2,
      "outputs": []
    },
    {
      "cell_type": "code",
      "metadata": {
        "colab": {
          "base_uri": "https://localhost:8080/",
          "height": 441
        },
        "id": "peiZjyajKap6",
        "outputId": "57c040a2-3f0a-415f-c901-fa0589d01115"
      },
      "source": [
        "import re\n",
        "\n",
        "card['Type'].value_counts().plot(kind='bar') #Before"
      ],
      "execution_count": 34,
      "outputs": [
        {
          "output_type": "execute_result",
          "data": {
            "text/plain": [
              "<matplotlib.axes._subplots.AxesSubplot at 0x7f6afac1fa90>"
            ]
          },
          "metadata": {
            "tags": []
          },
          "execution_count": 34
        },
        {
          "output_type": "display_data",
          "data": {
            "image/png": "[encoded data removed]",
            "text/plain": [
              "<Figure size 432x288 with 1 Axes>"
            ]
          },
          "metadata": {
            "tags": [],
            "needs_background": "light"
          }
        }
      ]
    },
    {
      "cell_type": "code",
      "metadata": {
        "colab": {
          "base_uri": "https://localhost:8080/",
          "height": 441
        },
        "id": "wKBifzM6x4j1",
        "outputId": "97ef77c5-95ef-4c5f-9e9b-8fe067f4a0aa"
      },
      "source": [
        "card_noNaN['Type'].value_counts().plot(kind='bar') #After"
      ],
      "execution_count": 65,
      "outputs": [
        {
          "output_type": "execute_result",
          "data": {
            "text/plain": [
              "<matplotlib.axes._subplots.AxesSubplot at 0x7f6af77fe690>"
            ]
          },
          "metadata": {
            "tags": []
          },
          "execution_count": 65
        },
        {
          "output_type": "display_data",
          "data": {
            "image/png": "[encoded data removed]",
            "text/plain": [
              "<Figure size 432x288 with 1 Axes>"
            ]
          },
          "metadata": {
            "tags": [],
            "needs_background": "light"
          }
        }
      ]
    },
    {
      "cell_type": "code",
      "metadata": {
        "colab": {
          "base_uri": "https://localhost:8080/",
          "height": 341
        },
        "id": "iJ-W6SUGKrtK",
        "outputId": "942c04c6-94f3-4a29-9ed4-a140d39a063c"
      },
      "source": [
        "card['Race'].value_counts().plot(kind='bar') #Before"
      ],
      "execution_count": 35,
      "outputs": [
        {
          "output_type": "execute_result",
          "data": {
            "text/plain": [
              "<matplotlib.axes._subplots.AxesSubplot at 0x7f6af9441f10>"
            ]
          },
          "metadata": {
            "tags": []
          },
          "execution_count": 35
        },
        {
          "output_type": "display_data",
          "data": {
            "image/png": "[encoded data removed]",
            "text/plain": [
              "<Figure size 432x288 with 1 Axes>"
            ]
          },
          "metadata": {
            "tags": [],
            "needs_background": "light"
          }
        }
      ]
    },
    {
      "cell_type": "code",
      "metadata": {
        "colab": {
          "base_uri": "https://localhost:8080/",
          "height": 341
        },
        "id": "Ra_eN2De1at2",
        "outputId": "0ffbc17e-e128-438c-b270-74788ba3d70a"
      },
      "source": [
        "card_noNaN['Race'].value_counts().plot(kind='bar') #After"
      ],
      "execution_count": 66,
      "outputs": [
        {
          "output_type": "execute_result",
          "data": {
            "text/plain": [
              "<matplotlib.axes._subplots.AxesSubplot at 0x7f6af6bdf1d0>"
            ]
          },
          "metadata": {
            "tags": []
          },
          "execution_count": 66
        },
        {
          "output_type": "display_data",
          "data": {
            "image/png": "[encoded data removed]",
            "text/plain": [
              "<Figure size 432x288 with 1 Axes>"
            ]
          },
          "metadata": {
            "tags": [],
            "needs_background": "light"
          }
        }
      ]
    },
    {
      "cell_type": "code",
      "metadata": {
        "colab": {
          "base_uri": "https://localhost:8080/",
          "height": 295
        },
        "id": "59S5ZDakx2H0",
        "outputId": "6697c776-8f41-40fb-c4ee-6eea61686461"
      },
      "source": [
        "\n",
        "card['Level'].value_counts().plot(kind='bar') #Before"
      ],
      "execution_count": 36,
      "outputs": [
        {
          "output_type": "execute_result",
          "data": {
            "text/plain": [
              "<matplotlib.axes._subplots.AxesSubplot at 0x7f6afa8bca50>"
            ]
          },
          "metadata": {
            "tags": []
          },
          "execution_count": 36
        },
        {
          "output_type": "display_data",
          "data": {
            "image/png": "[encoded data removed]",
            "text/plain": [
              "<Figure size 432x288 with 1 Axes>"
            ]
          },
          "metadata": {
            "tags": [],
            "needs_background": "light"
          }
        }
      ]
    },
    {
      "cell_type": "code",
      "metadata": {
        "colab": {
          "base_uri": "https://localhost:8080/",
          "height": 295
        },
        "id": "H5H_-6h41heB",
        "outputId": "b993531c-d7d5-4bee-e5e8-48ba972acd49"
      },
      "source": [
        "card_noNaN['Level'].value_counts().plot(kind='bar') #After"
      ],
      "execution_count": 67,
      "outputs": [
        {
          "output_type": "execute_result",
          "data": {
            "text/plain": [
              "<matplotlib.axes._subplots.AxesSubplot at 0x7f6af7d043d0>"
            ]
          },
          "metadata": {
            "tags": []
          },
          "execution_count": 67
        },
        {
          "output_type": "display_data",
          "data": {
            "image/png": "[encoded data removed]",
            "text/plain": [
              "<Figure size 432x288 with 1 Axes>"
            ]
          },
          "metadata": {
            "tags": [],
            "needs_background": "light"
          }
        }
      ]
    },
    {
      "cell_type": "code",
      "metadata": {
        "id": "FZZ1nfQp1p_c"
      },
      "source": [
        ""
      ],
      "execution_count": null,
      "outputs": []
    }
  ]
}